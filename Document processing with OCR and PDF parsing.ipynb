{
 "cells": [
  {
   "cell_type": "markdown",
   "metadata": {},
   "source": [
    "# Document processing with OCR and PDF parsing"
   ]
  },
  {
   "cell_type": "markdown",
   "metadata": {},
   "source": [
    "##### 1. Document images using tesseract"
   ]
  },
  {
   "cell_type": "code",
   "execution_count": null,
   "metadata": {},
   "outputs": [],
   "source": [
    "import pytesseract\n",
    "from PIL import Image\n",
    "\n",
    "image_path = \"images/document.jpg\"\n",
    "\n",
    "with Image.open(image_path) as img:\n",
    "    text = pytesseract.image_to_string(img)\n",
    "\n",
    "print(text)"
   ]
  },
  {
   "cell_type": "markdown",
   "metadata": {},
   "source": [
    "##### 2. Receipt images using asprise receipt API"
   ]
  },
  {
   "cell_type": "code",
   "execution_count": null,
   "metadata": {},
   "outputs": [],
   "source": [
    "import json\n",
    "import requests\n",
    "\n",
    "url = \"https://ocr.asprise.com/api/v1/receipt\"\n",
    "image = \"images/receipt.jpg\"\n",
    "\n",
    "res = requests.post(url,\n",
    "                    data = {\n",
    "                        \"api_key\": \"TEST\",\n",
    "                        \"recognizer\": \"auto\",\n",
    "                        \"ref_no\": \"ocr_python_123\"\n",
    "                    },\n",
    "                    files = {\n",
    "                        \"file\": open(image, \"rb\")\n",
    "                    })\n",
    "\n",
    "# saving resulting text into json file and consequently retrieve it for parsing\n",
    "with open(\"response1.json\", \"w\") as f:\n",
    "          json.dump(json.loads(res.text), f)\n",
    "          \n",
    "with open(\"response1.json\", \"r\") as f:\n",
    "    data = json.load(f)\n",
    "\n",
    "print(data[\"receipts\"][0].keys())\n",
    "\n",
    "items = data[\"receipts\"][0][\"items\"]\n",
    "\n",
    "print(f\"Your purchase at {data['receipts'][0]['merchant_name']}\")\n",
    "\n",
    "for item in items:\n",
    "    print(f\"{item['description']} - {data['receipts'][0]['currency']} {item['amount']}\")\n",
    "    \n",
    "print(\"-\" * 30)\n",
    "print(f\"Subtotal:  {data['receipts'][0]['currency']} {data['receipts'][0]['subtotal']}\")\n",
    "print(f\"Tax:  {data['receipts'][0]['currency']} {data['receipts'][0]['tax']}\")\n",
    "print(\"-\" * 30)\n",
    "print(f\"Total:  {data['receipts'][0]['currency']} {data['receipts'][0]['total']}\")"
   ]
  },
  {
   "cell_type": "markdown",
   "metadata": {},
   "source": [
    "##### 3. Making images readable"
   ]
  },
  {
   "cell_type": "code",
   "execution_count": null,
   "metadata": {},
   "outputs": [],
   "source": [
    "import cv2\n",
    "\n",
    "img = cv2.imread(\"images/pic.jpg\")\n",
    "img = cv2.cvtColor(img, cv2.COLOR_BGR2GRAY)        # turning colors into grayscale\n",
    "img = cv2.resize(img, (560, 900))                  # resize the image while maintaining ratio\n",
    "\n",
    "cv2.imshow(\"title\", img)\n",
    "cv2.waitKey(0)\n",
    "\n",
    "# determining a threshold eg 100 and every pixel above it becomes 255 (white) and below becomes 0 (black)\n",
    "_, result = cv2.threshold(img, 150, 255, cv2.THRESH_BINARY)\n",
    "\n",
    "# adaptive threshold chooses different thresholds for every pixel based on the surroundings - mean_c or gaussian_c\n",
    "# parameter 41 is for amount of pixel which determine threshold value; parameter 5 to reduce noise\n",
    "adaptive_result = cv2.adaptiveThreshold(img, 255, cv2.ADAPTIVE_THRESH_GAUSSIAN_C,\n",
    "                                        cv2.THRESH_BINARY, 41, 5)\n",
    "\n",
    "#creating 3 images (they pop up in windows)\n",
    "cv2.imshow(\"result\", result)\n",
    "cv2.imshow(\"original\", img)\n",
    "cv2.imshow(\"adaptive\", adaptive_result)\n",
    "cv2.waitKey(0)"
   ]
  },
  {
   "cell_type": "markdown",
   "metadata": {},
   "source": [
    "##### 4. Parsing PDFs into usable text and save it as docx"
   ]
  },
  {
   "cell_type": "code",
   "execution_count": null,
   "metadata": {},
   "outputs": [],
   "source": [
    "from PyPDF2 import PdfReader\n",
    "from docx import Document\n",
    "\n",
    "file_pdf_path = \"images/pdf_file.pdf\"\n",
    "\n",
    "# Function to extract text from a PDF file\n",
    "def extract_text_from_pdf(file_path):\n",
    "    text = ''\n",
    "    with open(file_path, 'rb') as file:\n",
    "        reader = PdfReader(file)\n",
    "        for page in reader.pages:\n",
    "            text += page.extract_text()\n",
    "    return text\n",
    "\n",
    "# apply function\n",
    "pdf_text = extract_text_from_pdf(file_pdf_path)\n",
    "slides = pdf_text.split(\"\\n\")\n",
    "\n",
    "print(slides)\n",
    "\n",
    "# Create a Word document\n",
    "doc = Document()\n",
    "\n",
    "doc.add_paragraph(slides)\n",
    "\n",
    "doc.save(\"extracted_pdf.docx\")"
   ]
  }
 ],
 "metadata": {
  "kernelspec": {
   "display_name": "Python 3",
   "language": "python",
   "name": "python3"
  },
  "language_info": {
   "codemirror_mode": {
    "name": "ipython",
    "version": 3
   },
   "file_extension": ".py",
   "mimetype": "text/x-python",
   "name": "python",
   "nbconvert_exporter": "python",
   "pygments_lexer": "ipython3",
   "version": "3.11.2"
  }
 },
 "nbformat": 4,
 "nbformat_minor": 2
}
